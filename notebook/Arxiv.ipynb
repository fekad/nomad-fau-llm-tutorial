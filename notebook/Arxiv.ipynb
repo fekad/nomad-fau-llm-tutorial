{
 "cells": [
  {
   "cell_type": "code",
   "execution_count": null,
   "id": "b42db3dd-ad97-4077-826f-dffd1653e044",
   "metadata": {},
   "outputs": [],
   "source": [
    "# toturial for arxive "
   ]
  }
 ],
 "metadata": {
  "kernelspec": {
   "display_name": "Python 3 (ipykernel)",
   "language": "python",
   "name": "python3"
  },
  "language_info": {
   "codemirror_mode": {
    "name": "ipython",
    "version": 3
   },
   "file_extension": ".py",
   "mimetype": "text/x-python",
   "name": "python",
   "nbconvert_exporter": "python",
   "pygments_lexer": "ipython3",
   "version": "3.11.8"
  }
 },
 "nbformat": 4,
 "nbformat_minor": 5
}
