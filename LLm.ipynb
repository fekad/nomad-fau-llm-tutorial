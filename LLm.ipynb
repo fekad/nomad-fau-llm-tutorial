{
 "cells": [
  {
   "cell_type": "code",
   "execution_count": 11,
   "id": "656cec7a-b9bc-429d-930f-bf639136bc4f",
   "metadata": {},
   "outputs": [],
   "source": [
    "import pandas as pd \n",
    "from rdkit import Chem\n",
    "from torch import nn\n",
    "import torch.nn.functional as F\n",
    "from torch.utils.data import Dataset, DataLoader\n",
    "import re \n",
    "from typing import List\n",
    "import numpy as np \n",
    "from math import exp\n",
    "import matplotlib.pyplot as plt"
   ]
  },
  {
   "cell_type": "code",
   "execution_count": 16,
   "id": "c6cc5d4b-751b-499b-974f-a3dbefc01c3a",
   "metadata": {},
   "outputs": [],
   "source": [
    "import torch\n",
    "def get_num_parameters(model):\n",
    "    \"\"\"Return the number of trainable parameters in the model.\"\"\"\n",
    "    # check if the model is trainable \n",
    "    return sum(p.numel() for p in model.parameters() if p.requires_grad)\n",
    "\n",
    "def get_num_parameters_per_layer(model):\n",
    "    \"\"\"Return the number of trainable parameters in the model per layer.\"\"\"\n",
    "    layers = {}\n",
    "    for name, p in model.named_parameters():\n",
    "        if p.requires_grad:\n",
    "            layers[name] = p.numel()\n",
    "    return layers\n",
    "\n",
    "# which one is available (CPU, GPU, or Apple Silicon MPS) \n",
    "def set_device():\n",
    "    if torch.backends.mps.is_available():\n",
    "        if torch.backends.mps.is_built():\n",
    "            device = 'mps'\n",
    "    elif torch.cuda.is_available():\n",
    "        device = 'cuda'\n",
    "    else:\n",
    "        device = 'cpu'\n",
    "    return device\n",
    "\n",
    "device = set_device()"
   ]
  },
  {
   "cell_type": "code",
   "execution_count": 17,
   "id": "504a3cb9-7599-4f22-9196-b8ad349a05ac",
   "metadata": {},
   "outputs": [
    {
     "name": "stdout",
     "output_type": "stream",
     "text": [
      "--2024-08-05 11:27:00--  https://deepchemdata.s3-us-west-1.amazonaws.com/datasets/zinc15_250K_2D.tar.gz\n",
      "Resolving deepchemdata.s3-us-west-1.amazonaws.com (deepchemdata.s3-us-west-1.amazonaws.com)... 52.219.120.105, 52.219.192.50, 52.219.120.201, ...\n",
      "Connecting to deepchemdata.s3-us-west-1.amazonaws.com (deepchemdata.s3-us-west-1.amazonaws.com)|52.219.120.105|:443... connected.\n",
      "HTTP request sent, awaiting response... 200 OK\n",
      "Length: 6941580 (6.6M) [application/x-gzip]\n",
      "Saving to: ‘zinc15_250K_2D.tar.gz’\n",
      "\n",
      "zinc15_250K_2D.tar. 100%[===================>]   6.62M  4.91MB/s    in 1.3s    \n",
      "\n",
      "2024-08-05 11:27:03 (4.91 MB/s) - ‘zinc15_250K_2D.tar.gz’ saved [6941580/6941580]\n",
      "\n"
     ]
    }
   ],
   "source": [
    "# load dataset\n",
    "!wget 'https://deepchemdata.s3-us-west-1.amazonaws.com/datasets/zinc15_250K_2D.tar.gz'\n",
    "!tar -xzf zinc15_250K_2D.tar.gz"
   ]
  },
  {
   "cell_type": "code",
   "execution_count": 18,
   "id": "d9214f03-ec4e-4391-a3c7-b63657f5970d",
   "metadata": {},
   "outputs": [],
   "source": [
    "df = pd.read_csv('zinc15_250K_2D.csv')"
   ]
  },
  {
   "cell_type": "code",
   "execution_count": 22,
   "id": "f8974792-ec52-4f88-8eda-2d47a63ef264",
   "metadata": {},
   "outputs": [
    {
     "data": {
      "image/png": "[encoded data removed]",
      "text/plain": [
       "<rdkit.Chem.rdchem.Mol at 0x7f4c85b00d60>"
      ]
     },
     "execution_count": 22,
     "metadata": {},
     "output_type": "execute_result"
    }
   ],
   "source": [
    "Chem.MolFromSmiles(df['smiles'][3])\n"
   ]
  },
  {
   "cell_type": "code",
   "execution_count": 23,
   "id": "5ef8155f-611c-4481-9a2c-79f5bf64b70a",
   "metadata": {},
   "outputs": [
    {
     "name": "stdout",
     "output_type": "stream",
     "text": [
      "<class 'pandas.core.frame.DataFrame'>\n"
     ]
    }
   ],
   "source": [
    "print(type(df))"
   ]
  },
  {
   "cell_type": "code",
   "execution_count": 24,
   "id": "95d7674c-04f6-40a4-a972-40aca381be76",
   "metadata": {},
   "outputs": [
    {
     "name": "stdout",
     "output_type": "stream",
     "text": [
      "250000\n"
     ]
    }
   ],
   "source": [
    "print(len(df))\n"
   ]
  },
  {
   "cell_type": "code",
   "execution_count": 31,
   "id": "adec63ea-a0f8-4afc-8296-0f9dd677403a",
   "metadata": {},
   "outputs": [
    {
     "name": "stdout",
     "output_type": "stream",
     "text": [
      "(250000, 7)\n"
     ]
    }
   ],
   "source": [
    "print (np.shape(df))\n",
    "train, valid, test = torch.utils.data.random_split(df['smiles'], [200000, 25000, 25000])\n"
   ]
  },
  {
   "cell_type": "code",
   "execution_count": 26,
   "id": "97f2b7d0-ffb9-4773-ac50-71e0174e6574",
   "metadata": {},
   "outputs": [],
   "source": [
    "def tokenize(smiles: str) -> List[str]:\n",
    "    \"\"\"\n",
    "    Tokenize a SMILES\n",
    "\n",
    "    Args:\n",
    "        smiles (str): SMILES string\n",
    "    \n",
    "    Returns:\n",
    "        List[str]: List of tokens\n",
    "    \"\"\"\n",
    "    SMI_REGEX_PATTERN = r\"\"\"(\\[[^\\]]+]|Br?|Cl?|N|O|S|P|F|I|b|c|n|o|s|p|\\(|\\)|\\.|=|#|-|\\+|\\\\|\\/|:|~|@|\\?|>>?|\\*|\\$|\\%[0-9]{2}|[0-9])\"\"\"\n",
    "    \n",
    "    return re.findall(SMI_REGEX_PATTERN, smiles)"
   ]
  },
  {
   "cell_type": "code",
   "execution_count": 27,
   "id": "91d683b2-e4d5-4f41-8251-3402b8aeda86",
   "metadata": {},
   "outputs": [
    {
     "data": {
      "text/plain": [
       "['C', 'C', 'O']"
      ]
     },
     "execution_count": 27,
     "metadata": {},
     "output_type": "execute_result"
    }
   ],
   "source": [
    "tokenize('CCO')"
   ]
  },
  {
   "cell_type": "code",
   "execution_count": 28,
   "id": "1a202c11-a01a-4043-af0f-6bdbdd2672d5",
   "metadata": {},
   "outputs": [
    {
     "data": {
      "text/plain": [
       "['c', '1', 'c', 'c', 'c', 'c', 'c', '1']"
      ]
     },
     "execution_count": 28,
     "metadata": {},
     "output_type": "execute_result"
    }
   ],
   "source": [
    "tokenize('c1ccccc1')"
   ]
  },
  {
   "cell_type": "code",
   "execution_count": 29,
   "id": "d0c723d2-1b70-4cdf-a678-144f2ef1ccfa",
   "metadata": {},
   "outputs": [],
   "source": [
    "class Tokenizer:\n",
    "    def __init__(self, tokens: List[str], eos: str = '[EOS]', bos: str = '[BOS]', pad: str = '[PAD]', unk: str = '[UNK]'):\n",
    "        self.tokens = [pad, bos, eos, unk] + tokens\n",
    "        self._token_to_index = {token: index for index, token in enumerate(self.tokens)}\n",
    "        self.index_to_token = {index: token for index, token in enumerate(self.tokens)}\n",
    "\n",
    "    def token_to_index(self, token: str) -> int:\n",
    "        try:\n",
    "            return self._token_to_index[token]\n",
    "        except KeyError:\n",
    "            return self._token_to_index['[UNK]']\n",
    "        \n",
    "    def __len__(self):\n",
    "        return len(self.tokens)\n",
    "    \n",
    "    def __getitem__(self, item):\n",
    "        return self.token_to_index[item]\n",
    "    \n",
    "    def __contains__(self, item):\n",
    "        return item in self.tokens\n",
    "\n",
    "    def encode(self, smiles: str, add_sos: bool=False, add_eos: bool=False) -> List[int]:\n",
    "        \"\"\"\n",
    "        Encode a SMILES into a list of indices\n",
    "\n",
    "        Args:\n",
    "            smiles (str): SMILES string\n",
    "            add_sos (bool): Add start of sentence token\n",
    "            add_eos (bool): Add end of sentence token\n",
    "\n",
    "        Returns:\n",
    "            List[int]: List of indices\n",
    "        \"\"\"\n",
    "        tokens = []\n",
    "        if add_sos:\n",
    "            tokens.append(self.token_to_index('[BOS]'))\n",
    "        tokens += [self.token_to_index(token) for token in tokenize(smiles)]\n",
    "        if add_eos:\n",
    "            tokens.append(self.token_to_index('[EOS]'))\n",
    "        return tokens\n",
    "    \n",
    "    def decode(self, indices: List[int], strip_special_tokens: bool = True) -> str: \n",
    "        \"\"\"\n",
    "        Decode a list of indices into a SMILES\n",
    "\n",
    "        Args:\n",
    "            indices (List[int]): List of indices\n",
    "        \n",
    "        Returns:\n",
    "            str: SMILES string\n",
    "        \"\"\"\n",
    "        decoded = ''.join([self.index_to_token[index] for index in indices])\n",
    "        if strip_special_tokens:\n",
    "            return decoded.replace('[PAD]', '').replace('[BOS]', '').replace('[EOS]', '')\n",
    "        return decoded"
   ]
  },
  {
   "cell_type": "code",
   "execution_count": 32,
   "id": "27e5772b-c741-486e-be53-13a0fa56b495",
   "metadata": {},
   "outputs": [],
   "source": [
    "tokens = set()\n",
    "lengths = []\n",
    "for smiles in train.dataset.values:\n",
    "    tokens_ = tokenize(smiles)\n",
    "    tokens.update(tokens_)\n",
    "    lengths.append(len(tokens_))"
   ]
  },
  {
   "cell_type": "code",
   "execution_count": 33,
   "id": "f6e554bc-6d7b-4b3f-8dca-f79112a61998",
   "metadata": {},
   "outputs": [
    {
     "data": {
      "text/plain": [
       "(array([3.0000e+00, 4.0000e+00, 7.0000e+00, 0.0000e+00, 2.3000e+01,\n",
       "        5.6000e+01, 0.0000e+00, 7.8000e+01, 2.0100e+02, 0.0000e+00,\n",
       "        3.8900e+02, 8.0200e+02, 1.4320e+03, 0.0000e+00, 2.5760e+03,\n",
       "        3.9450e+03, 0.0000e+00, 5.8570e+03, 8.0820e+03, 0.0000e+00,\n",
       "        1.0313e+04, 1.2675e+04, 1.4914e+04, 0.0000e+00, 1.7137e+04,\n",
       "        1.8718e+04, 0.0000e+00, 2.0510e+04, 2.0796e+04, 0.0000e+00,\n",
       "        2.1073e+04, 2.0330e+04, 1.8396e+04, 0.0000e+00, 1.6193e+04,\n",
       "        1.2172e+04, 0.0000e+00, 9.8210e+03, 5.8470e+03, 0.0000e+00,\n",
       "        3.9460e+03, 2.1220e+03, 9.6800e+02, 0.0000e+00, 4.1200e+02,\n",
       "        1.4500e+02, 0.0000e+00, 4.6000e+01, 1.0000e+01, 1.0000e+00]),\n",
       " array([17. , 17.7, 18.4, 19.1, 19.8, 20.5, 21.2, 21.9, 22.6, 23.3, 24. ,\n",
       "        24.7, 25.4, 26.1, 26.8, 27.5, 28.2, 28.9, 29.6, 30.3, 31. , 31.7,\n",
       "        32.4, 33.1, 33.8, 34.5, 35.2, 35.9, 36.6, 37.3, 38. , 38.7, 39.4,\n",
       "        40.1, 40.8, 41.5, 42.2, 42.9, 43.6, 44.3, 45. , 45.7, 46.4, 47.1,\n",
       "        47.8, 48.5, 49.2, 49.9, 50.6, 51.3, 52. ]),\n",
       " <BarContainer object of 50 artists>)"
      ]
     },
     "execution_count": 33,
     "metadata": {},
     "output_type": "execute_result"
    },
    {
     "data": {
      "image/png": "[encoded data removed]",
      "text/plain": [
       "<Figure size 640x480 with 1 Axes>"
      ]
     },
     "metadata": {},
     "output_type": "display_data"
    }
   ],
   "source": [
    "plt.hist(lengths, bins=50)"
   ]
  },
  {
   "cell_type": "code",
   "execution_count": 35,
   "id": "2b071e25-b939-4b1b-ad54-a7476401945b",
   "metadata": {},
   "outputs": [],
   "source": [
    "tokenizer = Tokenizer(list(tokens))\n"
   ]
  },
  {
   "cell_type": "code",
   "execution_count": 36,
   "id": "5306f7e0-fd8e-493c-b606-a246e64161b4",
   "metadata": {},
   "outputs": [
    {
     "data": {
      "text/plain": [
       "[27, 27, 19]"
      ]
     },
     "execution_count": 36,
     "metadata": {},
     "output_type": "execute_result"
    }
   ],
   "source": [
    "tokenizer.encode('CCO')"
   ]
  },
  {
   "cell_type": "code",
   "execution_count": 37,
   "id": "3b72c1ae-f5fb-4036-83fb-46db9df8fdd8",
   "metadata": {},
   "outputs": [
    {
     "data": {
      "text/plain": [
       "'CCO'"
      ]
     },
     "execution_count": 37,
     "metadata": {},
     "output_type": "execute_result"
    }
   ],
   "source": [
    "tokenizer.decode([27, 27, 19])"
   ]
  },
  {
   "cell_type": "code",
   "execution_count": 38,
   "id": "d6f92ab7-2016-4c79-babb-6aec54b97fc8",
   "metadata": {},
   "outputs": [],
   "source": [
    "B, T, C = 2, 3, 4 # batch size, sequence length, embedding size\n",
    "x = torch.rand(B, T, C)\n",
    "pos = torch.arange(T).unsqueeze(0).repeat(B, 1)"
   ]
  },
  {
   "cell_type": "code",
   "execution_count": null,
   "id": "214d1581-3e49-4a57-9797-94a6515c2a08",
   "metadata": {},
   "outputs": [],
   "source": [
    "# till langauge modeling data set "
   ]
  }
 ],
 "metadata": {
  "kernelspec": {
   "display_name": "Python 3 (ipykernel)",
   "language": "python",
   "name": "python3"
  },
  "language_info": {
   "codemirror_mode": {
    "name": "ipython",
    "version": 3
   },
   "file_extension": ".py",
   "mimetype": "text/x-python",
   "name": "python",
   "nbconvert_exporter": "python",
   "pygments_lexer": "ipython3",
   "version": "3.11.9"
  }
 },
 "nbformat": 4,
 "nbformat_minor": 5
}
